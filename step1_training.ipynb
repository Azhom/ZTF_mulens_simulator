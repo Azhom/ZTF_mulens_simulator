{
 "cells": [
  {
   "cell_type": "markdown",
   "metadata": {},
   "source": [
    "# Using LIA to construct models \n",
    "\n",
    "In this notebook, we show how to construct models in LIA. There are 3 steps:\n",
    "- [Data preparation] Split the dataset in training/testing set. Go over all light-curves and extract the time sampling\n",
    "- [Training] Train the models\n",
    "- [Test] Apply the classification on the test data set"
   ]
  },
  {
   "cell_type": "markdown",
   "metadata": {},
   "source": [
    "## Data preparation"
   ]
  },
  {
   "cell_type": "markdown",
   "metadata": {},
   "source": [
    "The input data should be computed using `step0_` notebook"
   ]
  },
  {
   "cell_type": "code",
   "execution_count": 1,
   "metadata": {},
   "outputs": [],
   "source": [
    "from LIA import training_set\n",
    "from LIA import models\n",
    "import numpy as np \n",
    "from tqdm import tqdm\n",
    "\n",
    "filename = 'lcs.csv'\n",
    "lcs = np.loadtxt(filename, dtype=str, delimiter=',')\n",
    "lcs = lcs[1:]\n",
    "lcs = lcs[lcs[:,0].astype(float).argsort(),]"
   ]
  },
  {
   "cell_type": "markdown",
   "metadata": {},
   "source": [
    "split between training and testing dataset"
   ]
  },
  {
   "cell_type": "code",
   "execution_count": 2,
   "metadata": {},
   "outputs": [
    {
     "name": "stdout",
     "output_type": "stream",
     "text": [
      "\n",
      "Training: 14430 light-curves\n",
      "Testing : 3589 light-curves\n",
      "\n"
     ]
    }
   ],
   "source": [
    "nlcs = len(lcs)\n",
    "training_data = lcs[:int(3*nlcs/4)]\n",
    "testing_data = lcs[int(3*nlcs/4):]\n",
    "\n",
    "# Compute the list of unique light-curve ID\n",
    "unique_id_train = np.unique(training_data[:,0])\n",
    "unique_id_test = np.unique(testing_data[:,0])\n",
    "\n",
    "msg = \"\"\"\n",
    "Training: {} light-curves\n",
    "Testing : {} light-curves\n",
    "\"\"\".format(len(unique_id_train), len(unique_id_test))\n",
    "print(msg)"
   ]
  },
  {
   "cell_type": "markdown",
   "metadata": {},
   "source": [
    "For the training set, retrieve time sampling"
   ]
  },
  {
   "cell_type": "code",
   "execution_count": 3,
   "metadata": {},
   "outputs": [
    {
     "name": "stderr",
     "output_type": "stream",
     "text": [
      "\r",
      "  0%|          | 0/14430 [00:00<?, ?it/s]"
     ]
    },
    {
     "name": "stdout",
     "output_type": "stream",
     "text": [
      "14430 light-curves to process (2 bands)...\n"
     ]
    },
    {
     "name": "stderr",
     "output_type": "stream",
     "text": [
      "100%|██████████| 14430/14430 [11:32<00:00, 19.90it/s]"
     ]
    },
    {
     "name": "stdout",
     "output_type": "stream",
     "text": [
      "... done\n"
     ]
    },
    {
     "name": "stderr",
     "output_type": "stream",
     "text": [
      "\n"
     ]
    }
   ],
   "source": [
    "unique_filt = np.unique(training_data[:,2])\n",
    "print('{} light-curves to process ({} bands)...'.format(\n",
    "    len(unique_id_train), \n",
    "    len(unique_filt)\n",
    "))\n",
    "\n",
    "# Loop over lightcurve and retrieve time sampling\n",
    "times = []\n",
    "for ind in tqdm(unique_id_train):\n",
    "    for filt in ['1', '2']:\n",
    "        mask = (training_data[:,0] == ind) & (training_data[:,2] == filt)\n",
    "        if len(training_data[mask]) > 10:\n",
    "            light = training_data[mask]\n",
    "            time = light[:,5].astype(float)\n",
    "\n",
    "            order = np.argsort(time)\n",
    "            times.append(time[order])\n",
    "print('... done')"
   ]
  },
  {
   "cell_type": "markdown",
   "metadata": {},
   "source": [
    "## Constructing the models"
   ]
  },
  {
   "cell_type": "code",
   "execution_count": 4,
   "metadata": {},
   "outputs": [
    {
     "name": "stdout",
     "output_type": "stream",
     "text": [
      "Now simulating variables...\n",
      "Variables successfully simulated\n",
      "Now simulating constants...\n"
     ]
    },
    {
     "name": "stderr",
     "output_type": "stream",
     "text": [
      "/Users/julien/anaconda3/lib/python3.7/site-packages/tsfresh-0.14.1-py3.7.egg/tsfresh/feature_extraction/feature_calculators.py:1532: RuntimeWarning: invalid value encountered in true_divide\n",
      "  similarity_ratio = A / B\n",
      "/Users/julien/anaconda3/lib/python3.7/site-packages/tsfresh-0.14.1-py3.7.egg/tsfresh/feature_extraction/feature_calculators.py:1533: RuntimeWarning: divide by zero encountered in log\n",
      "  se = -1 * np.log(similarity_ratio)\n"
     ]
    },
    {
     "name": "stdout",
     "output_type": "stream",
     "text": [
      "Constants successfully simulated\n",
      "Now simulating CV...\n",
      "CVs successfully simulated\n",
      "Now simulating microlensing...\n",
      "Microlensing events successfully simulated\n",
      "Writing files...\n",
      "Saving features...\n",
      "Computing principal components...\n",
      "Complete!\n"
     ]
    }
   ],
   "source": [
    "# Train the model - beware time sample and \n",
    "# magnitude ranges should be as realistic as possible\n",
    "training_set.create(times[::1], min_mag=10, max_mag=25, noise=None, n_class=500)"
   ]
  },
  {
   "cell_type": "code",
   "execution_count": 6,
   "metadata": {},
   "outputs": [],
   "source": [
    "rf, pca = models.create_models('all_features.txt', 'pca_features.txt')\n",
    "\n",
    "# ploting TSNE\n",
    "# from sklearn.manifold import TSNE as tsne\n",
    "# import matplotlib.pyplot as plt\n",
    "# pcapca = np.loadtxt('pca_features.txt',dtype=str)\n",
    "# vis_data = tsne(n_components=2).fit_transform(pcapca[:,2:].astype(float))\n",
    "# vis_x = vis_data[:,0]\n",
    "# vis_y = vis_data[:,1]\n",
    "\n",
    "# colors = ['red', 'green', 'blue', 'yellow', 'orange', 'purple', 'black']\n",
    "# fig, ax = plt.subplots()\n",
    "# for i,object_class in enumerate(['Variable', 'Constant', 'CV', 'ML']):\n",
    "#     x=vis_x[i*n_class:(i+1)*n_class]\n",
    "#     y=vis_y[i*n_class:(i+1)*n_class]\n",
    "#     ax.scatter(x, y, c=colors[i], label=object_class)\n",
    "\n",
    "# plt.legend()\n",
    "# plt.show()"
   ]
  },
  {
   "cell_type": "markdown",
   "metadata": {},
   "source": [
    "## Classification\n",
    "\n",
    "We test the classifier on the test set"
   ]
  },
  {
   "cell_type": "code",
   "execution_count": 8,
   "metadata": {},
   "outputs": [
    {
     "name": "stderr",
     "output_type": "stream",
     "text": [
      "  0%|          | 3/3589 [00:00<02:20, 25.59it/s]"
     ]
    },
    {
     "name": "stdout",
     "output_type": "stream",
     "text": [
      "3589 light-curves to process...\n"
     ]
    },
    {
     "name": "stderr",
     "output_type": "stream",
     "text": [
      "100%|██████████| 3589/3589 [01:04<00:00, 56.06it/s]\n",
      "  0%|          | 2/3091 [00:00<03:37, 14.19it/s]"
     ]
    },
    {
     "name": "stdout",
     "output_type": "stream",
     "text": [
      "... done\n"
     ]
    },
    {
     "name": "stderr",
     "output_type": "stream",
     "text": [
      "100%|██████████| 3091/3091 [03:33<00:00, 14.46it/s]\n"
     ]
    },
    {
     "name": "stdout",
     "output_type": "stream",
     "text": [
      "Efficiency is 72.75962471692009%\n"
     ]
    }
   ],
   "source": [
    "import warnings\n",
    "warnings.filterwarnings('ignore')\n",
    "\n",
    "from LIA import microlensing_classifier\n",
    "\n",
    "# Compute the list of unique light-curve ID\n",
    "print('{} light-curves to process...'.format(len(unique_id_test)))\n",
    "\n",
    "# Loop over lightcurve and retrieve time samples\n",
    "times, mags, emags = [], [], []\n",
    "for ind in tqdm(unique_id_test):\n",
    "    for filt in ['1', '2']:\n",
    "        mask = (testing_data[:,0] == ind) & (testing_data[:,2] == filt)\n",
    "        if len(testing_data[mask]) > 10:\n",
    "            light = testing_data[mask]\n",
    "            time = light[:,5].astype(float)\n",
    "            mag = light[:,-1].astype(float)\n",
    "            emag = light[:,-2].astype(float)\n",
    "\n",
    "\n",
    "            order = np.argsort(time)\n",
    "            times.append(time[order])\n",
    "            mags.append(mag[order])\n",
    "            emags.append(emag[order])\n",
    "print('... done')\n",
    "\n",
    "\n",
    "classes = []\n",
    "for i in tqdm(np.arange(0,len(times))[::1]):\n",
    "    classification,p_ML,p_cons,p_CV,p_var = microlensing_classifier.predict(mags[i], emags[i], rf, pca)\n",
    "    classes.append([classification,p_ML[0],p_cons[0],p_CV[0],p_var[0]])\n",
    "classes = np.array(classes)\n",
    "mask = classes[:,0] == 'ML'\n",
    "print('Efficiency is {:.1f}%'.format(100*len(classes[mask])/len(classes)))"
   ]
  },
  {
   "cell_type": "markdown",
   "metadata": {},
   "source": [
    "Visual inspection using the confusion matrix"
   ]
  },
  {
   "cell_type": "code",
   "execution_count": 11,
   "metadata": {},
   "outputs": [
    {
     "data": {
      "image/png": "[encoded data removed]",
      "text/plain": [
       "<Figure size 864x576 with 2 Axes>"
      ]
     },
     "metadata": {
      "needs_background": "light"
     },
     "output_type": "display_data"
    }
   ],
   "source": [
    "import matplotlib\n",
    "# Font for plots\n",
    "font = {\n",
    "    'weight': 'bold',\n",
    "    'size': 22\n",
    "}\n",
    "matplotlib.rc('font', **font)\n",
    "\n",
    "import matplotlib.pyplot as plt\n",
    "import numpy as np\n",
    "import itertools\n",
    "\n",
    "from sklearn.manifold import TSNE as tsne\n",
    "from sklearn.metrics import confusion_matrix\n",
    "\n",
    "\n",
    "### Stolen confusion matrix\n",
    "def plot_confusion_matrix(\n",
    "    cm, target_names, title='Confusion matrix', \n",
    "    cmap=None, normalize=True):\n",
    "    \"\"\" given a sklearn confusion matrix (cm), make a nice plot\n",
    "\n",
    "    Arguments\n",
    "    ---------\n",
    "    cm:           confusion matrix from sklearn.metrics.confusion_matrix\n",
    "\n",
    "    target_names: given classification classes such as [0, 1, 2]\n",
    "                  the class names, for example: ['high', 'medium', 'low']\n",
    "\n",
    "    title:        the text to display at the top of the matrix\n",
    "\n",
    "    cmap:         the gradient of the values displayed from matplotlib.pyplot.cm\n",
    "                  see http://matplotlib.org/examples/color/colormaps_reference.html\n",
    "                  plt.get_cmap('jet') or plt.cm.Blues\n",
    "\n",
    "    normalize:    If False, plot the raw numbers\n",
    "                  If True, plot the proportions\n",
    "\n",
    "    Usage\n",
    "    -----\n",
    "    plot_confusion_matrix(cm           = cm,                  # confusion matrix created by\n",
    "                                                              # sklearn.metrics.confusion_matrix\n",
    "                          normalize    = True,                # show proportions\n",
    "                          target_names = y_labels_vals,       # list of names of the classes\n",
    "                          title        = best_estimator_name) # title of graph\n",
    "\n",
    "    Citiation\n",
    "    ---------\n",
    "    http://scikit-learn.org/stable/auto_examples/model_selection/plot_confusion_matrix.html\n",
    "\n",
    "    \"\"\"\n",
    "    accuracy = np.trace(cm) / np.sum(cm).astype('float')\n",
    "    misclass = 1 - accuracy\n",
    "\n",
    "    if cmap is None:\n",
    "        cmap = plt.get_cmap('Blues')\n",
    "\n",
    "    plt.figure(figsize=(12, 8))\n",
    "    plt.imshow(cm, interpolation='nearest', cmap=cmap)\n",
    "    plt.title(title)\n",
    "    plt.colorbar()\n",
    "\n",
    "    if target_names is not None:\n",
    "        tick_marks = np.arange(len(target_names))\n",
    "        plt.xticks(tick_marks, target_names, rotation=45)\n",
    "        plt.yticks(tick_marks, target_names)\n",
    "\n",
    "    if normalize:\n",
    "        cm = cm.astype('float') / cm.sum(axis=1)[:, np.newaxis]\n",
    "\n",
    "\n",
    "    thresh = cm.max() / 1.5 if normalize else cm.max() / 2\n",
    "    for i, j in itertools.product(range(cm.shape[0]), range(cm.shape[1])):\n",
    "        if normalize:\n",
    "            plt.text(j, i, \"{:0.4f}\".format(cm[i, j]),\n",
    "                     horizontalalignment=\"center\",\n",
    "                     color=\"white\" if cm[i, j] > thresh else \"black\")\n",
    "        else:\n",
    "            plt.text(j, i, \"{:,}\".format(cm[i, j]),\n",
    "                     horizontalalignment=\"center\",\n",
    "                     color=\"white\" if cm[i, j] > thresh else \"black\")\n",
    "\n",
    "    plt.tight_layout()\n",
    "    plt.ylabel('True label')\n",
    "    plt.xlabel('Predicted label\\naccuracy={:0.4f}; misclass={:0.4f}'.format(accuracy, misclass))\n",
    "    plt.show()\n",
    "    \n",
    "conf_mat = confusion_matrix(['ML']*len(times), classes[:,0])\n",
    "plot_confusion_matrix(conf_mat, ['CV','CONSTANT','ML','VARIABLE'])"
   ]
  },
  {
   "cell_type": "code",
   "execution_count": null,
   "metadata": {},
   "outputs": [],
   "source": []
  }
 ],
 "metadata": {
  "kernelspec": {
   "display_name": "Python 3",
   "language": "python",
   "name": "python3"
  },
  "language_info": {
   "codemirror_mode": {
    "name": "ipython",
    "version": 3
   },
   "file_extension": ".py",
   "mimetype": "text/x-python",
   "name": "python",
   "nbconvert_exporter": "python",
   "pygments_lexer": "ipython3",
   "version": "3.7.1"
  }
 },
 "nbformat": 4,
 "nbformat_minor": 2
}
