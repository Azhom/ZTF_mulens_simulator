{
 "cells": [
  {
   "cell_type": "code",
   "execution_count": 1,
   "metadata": {},
   "outputs": [],
   "source": [
    "import numpy as np\n",
    "import pandas as pd\n",
    "import matplotlib.pyplot as plt\n",
    "\n",
    "import astropy.units as u\n",
    "import astropy.table as table\n",
    "from astropy.coordinates import SkyCoord, search_around_sky, match_coordinates_sky"
   ]
  },
  {
   "cell_type": "code",
   "execution_count": 2,
   "metadata": {},
   "outputs": [],
   "source": [
    "PLOT_FILTER_COLORS = {\n",
    "    \"zi\":\"red\",\n",
    "    \"zg\":\"darkblue\",\n",
    "    \"zr\":\"green\"}"
   ]
  },
  {
   "cell_type": "markdown",
   "metadata": {},
   "source": [
    "Microlensing amplification curve definition"
   ]
  },
  {
   "cell_type": "code",
   "execution_count": 3,
   "metadata": {},
   "outputs": [],
   "source": [
    "def microlens_simple(t, mag, u0, t0, tE):\n",
    "    u = np.sqrt(u0*u0 + ((t-t0)**2)/tE/tE)\n",
    "    amp = (u**2+2)/(u*np.sqrt(u**2+4))\n",
    "    return - 2.5*np.log10(amp) + mag"
   ]
  },
  {
   "cell_type": "code",
   "execution_count": 4,
   "metadata": {},
   "outputs": [
    {
     "data": {
      "text/plain": [
       "'\\nfrom ztfquery import lightcurve\\n\\nlcq = lightcurve.LCQuery()\\ndata = lcq.query_position(283.9, -7, 50)\\nlcs = data.data.copy()'"
      ]
     },
     "execution_count": 4,
     "metadata": {},
     "output_type": "execute_result"
    }
   ],
   "source": [
    "\"\"\"\n",
    "from ztfquery import lightcurve\n",
    "\n",
    "lcq = lightcurve.LCQuery()\n",
    "data = lcq.query_position(283.9, -7, 50)\n",
    "lcs = data.data.copy()\"\"\""
   ]
  },
  {
   "cell_type": "markdown",
   "metadata": {},
   "source": [
    "### Reading ZTF lightcurves"
   ]
  },
  {
   "cell_type": "code",
   "execution_count": 5,
   "metadata": {},
   "outputs": [],
   "source": [
    "def load_ztf_bulk_data(path):\n",
    "    with open(path) as f:\n",
    "        all_lcs = []\n",
    "        new_lc = []\n",
    "        pre_line = []\n",
    "        line=1\n",
    "        cnt = 0\n",
    "        while line:\n",
    "            line = f.readline()\n",
    "            cnt+=1\n",
    "            if line : \n",
    "                if line[0] == \"#\":\n",
    "                    pre_line = line.split()[1:]\n",
    "                else:\n",
    "                    all_lcs.append(pre_line + line.split())\n",
    "    print(cnt)\n",
    "    df = pd.DataFrame(all_lcs,\n",
    "                        columns=[\"oid\", \"nobs\", \"filtercode\", \"field\", \"readout\", \"ra\", \"dec\", \"hjd\", \"mag\", \"magerr\", \"circoeff\", \"catflags\"],\n",
    "                        dtype = float)\n",
    "    df.drop(columns=[\"readout\", \"circoeff\", \"catflags\", \"field\"], inplace=True)\n",
    "    return df.astype({\"oid\":int, \"nobs\":int, \"filtercode\":int})"
   ]
  },
  {
   "cell_type": "markdown",
   "metadata": {},
   "source": [
    "#### Descritpion of the columns, from https://www.ztf.caltech.edu/page/dr2#12 :\n",
    "\n",
    "\n",
    "ObjectID: Unique Object Identifier. This is the oid that is returned by\n",
    "            queries on the Objects Database Table. This ID can be used to\n",
    "            retrieve additional metadata for an Object or lightcurve.\n",
    "            \n",
    "  nDR2epochs: The number of observation epochs in the lightcurve for this object,\n",
    "              included in this data release only.\n",
    "              \n",
    "  FilterID: Filter for the lightcurve photometry: 1 => g; 2 => r; 3 => i.\n",
    "  \n",
    "  FieldID: The survey Field Identifier. Lightcurves in DR2 are spread\n",
    "           across 856 Fields. This identifier can be used to retrieve additional\n",
    "           archive metadata.\n",
    "           \n",
    "  RcID: The readout-channel Identifier (or CCD-Quadrant index) that contains the\n",
    "        object. The RcID runs from 0 to 63 over the ZTF focal plane.\n",
    "        In combination with FieldID, this can be used to retrieve additional\n",
    "        archive metadata.\n",
    "        \n",
    "  ObjRA: Object Right Ascension from the input Reference Image (seed) catalog\n",
    "         corresponding to the FieldID, RcID, and FilterID [decimal degrees].\n",
    "         \n",
    "  ObjDec: Object Declination from the input Reference Image (seed) catalog\n",
    "          corresponding to the FieldID, RcID, and FilterID [decimal degrees].\n",
    "\n",
    "  HMJD: Heliocentric-based Modified Julian Date [days] corresponding to the\n",
    "        middle of each exposure and approximate position of the object.\n",
    "        The HMJD is derived from \"HJD - 2400000.5\" where HJD is the Heliocentric\n",
    "        Julian Date. \n",
    "        \n",
    "  mag: Calibrated magnitude for a source with color g - r = 0 in the AB photometric\n",
    "       system. See Cautionary Note #12 in Section 10. \n",
    "       \n",
    "  magerr: Corresponding 1-σ uncertainty in mag estimate; excludes the (usually small)\n",
    "          uncertainty associated with the calibration zeropoint and possible systematics\n",
    "          relative to external photometry catalogs (for example PS1).\n",
    "          \n",
    "  clrcoeff: Linear color coefficient term from photometric calibration\n",
    "            that can be applied to the mag estimate if you know the\n",
    "            AB g - r color of your source. See Cautionary Note #12 in Section 10.\n",
    "            \n",
    "  catflags: Photometric/image quality flags encoded as bits (Section 9b).\n",
    "            In particular, you will always want to exclude observation epochs\n",
    "            affected by clouds and/or the moon. These epochs have catflags = 32768\n",
    "            (decimal bit 15)."
   ]
  },
  {
   "cell_type": "code",
   "execution_count": 6,
   "metadata": {},
   "outputs": [],
   "source": [
    "import time"
   ]
  },
  {
   "cell_type": "markdown",
   "metadata": {},
   "source": [
    "\n",
    "Loading takes approx. 1min for me  \n",
    "(link to ZTF light curves bulk data : https://irsa.ipac.caltech.edu/data/ZTF/lc_dr2/)"
   ]
  },
  {
   "cell_type": "code",
   "execution_count": 7,
   "metadata": {},
   "outputs": [
    {
     "name": "stdout",
     "output_type": "stream",
     "text": [
      "14612268\n",
      "48.36514401435852\n"
     ]
    }
   ],
   "source": [
    "st1 = time.time()\n",
    "lcs = load_ztf_bulk_data('field000354_ra64.88725to72.38138_dec-13.61043to-6.11234.txt')\n",
    "print(time.time()-st1)"
   ]
  },
  {
   "cell_type": "markdown",
   "metadata": {},
   "source": [
    "This is only one field of ZTF, chosen because it was not too heavy"
   ]
  },
  {
   "cell_type": "code",
   "execution_count": 8,
   "metadata": {},
   "outputs": [
    {
     "name": "stdout",
     "output_type": "stream",
     "text": [
      "Number of loaded light curves : 1141618\n"
     ]
    }
   ],
   "source": [
    "print(f\"Number of loaded light curves : {len(lcs.oid.unique())}\")"
   ]
  },
  {
   "cell_type": "markdown",
   "metadata": {},
   "source": [
    "Here, there is one ID for each filter, we need to associate correctly the light curves corresponding to the same star in different filters.  \n",
    "For this I only combine the closest one to g filter position from r or i filter catalogue (note : there is no i data for this field).  "
   ]
  },
  {
   "cell_type": "code",
   "execution_count": 9,
   "metadata": {},
   "outputs": [],
   "source": [
    "coordinates = table.Table.from_pandas(lcs[[\"oid\", \"ra\", \"dec\"]].groupby('oid').agg(np.median).reset_index())\n",
    "coordinates.add_index(\"oid\")"
   ]
  },
  {
   "cell_type": "code",
   "execution_count": 10,
   "metadata": {},
   "outputs": [],
   "source": [
    "coordinates[\"skc\"] = SkyCoord(coordinates[\"ra\"], coordinates[\"dec\"], unit=u.deg)"
   ]
  },
  {
   "cell_type": "code",
   "execution_count": 11,
   "metadata": {},
   "outputs": [],
   "source": [
    "lcs[\"filtercode\"].replace(to_replace={1:\"zg\", 2:\"zr\", 3:\"zi\"}, inplace=True)"
   ]
  },
  {
   "cell_type": "code",
   "execution_count": 12,
   "metadata": {},
   "outputs": [],
   "source": [
    "index = lcs[[\"filtercode\", \"oid\"]].drop_duplicates().reset_index(drop=True)"
   ]
  },
  {
   "cell_type": "code",
   "execution_count": 13,
   "metadata": {},
   "outputs": [],
   "source": [
    "zrc = coordinates.loc[index[index.filtercode == \"zr\"].oid.values]"
   ]
  },
  {
   "cell_type": "code",
   "execution_count": 14,
   "metadata": {},
   "outputs": [],
   "source": [
    "zgc = coordinates.loc[index[index.filtercode == \"zg\"].oid.values]"
   ]
  },
  {
   "cell_type": "code",
   "execution_count": 15,
   "metadata": {},
   "outputs": [],
   "source": [
    "idx, sep2d, d3d = zrc[\"skc\"].match_to_catalog_sky(zgc[\"skc\"])"
   ]
  },
  {
   "cell_type": "code",
   "execution_count": 16,
   "metadata": {},
   "outputs": [
    {
     "data": {
      "text/plain": [
       "'idx1, idx2, sep2d, d3d = zrc[\"skc\"].search_around_sky(zgc[\"skc\"], seplimit=1*u.arcsec)\\ndra, ddec = zrc[\"skc\"][idx2].spherical_offsets_to(zgc[\"skc\"][idx1])\\nplt.hist2d(dra.arcsec, ddec.arcsec, bins=300)\\nplt.show()'"
      ]
     },
     "execution_count": 16,
     "metadata": {},
     "output_type": "execute_result"
    }
   ],
   "source": [
    "\"\"\"idx1, idx2, sep2d, d3d = zrc[\"skc\"].search_around_sky(zgc[\"skc\"], seplimit=1*u.arcsec)\n",
    "dra, ddec = zrc[\"skc\"][idx2].spherical_offsets_to(zgc[\"skc\"][idx1])\n",
    "plt.hist2d(dra.arcsec, ddec.arcsec, bins=300)\n",
    "plt.show()\"\"\""
   ]
  },
  {
   "cell_type": "markdown",
   "metadata": {},
   "source": [
    "We combine only sources that are closer than 1 arcsec "
   ]
  },
  {
   "cell_type": "code",
   "execution_count": 17,
   "metadata": {},
   "outputs": [],
   "source": [
    "zrc[\"aid\"] = np.where(sep2d<1*u.arcsec, zgc.iloc[idx][\"oid\"], zrc[\"oid\"])"
   ]
  },
  {
   "cell_type": "code",
   "execution_count": 18,
   "metadata": {},
   "outputs": [],
   "source": [
    "zic = None\n",
    "if \"zi\" in lcs.filtercode.unique():\n",
    "    zic = coordinates.loc[index[index.filtercode == \"zi\"].oid.values]\n",
    "    idx, sep2d, d3d = zrc[\"skc\"].match_to_catalog_sky(zgc[\"skc\"], sep=1*u.arcsec)\n",
    "    zic[\"aid\"] = np.where(sep2d<1*u.arcsec, zgc.iloc[idx][\"oid\"], zic[\"oid\"])"
   ]
  },
  {
   "cell_type": "code",
   "execution_count": 19,
   "metadata": {},
   "outputs": [],
   "source": [
    "zgc[\"aid\"] = zgc[\"oid\"]"
   ]
  },
  {
   "cell_type": "code",
   "execution_count": 20,
   "metadata": {},
   "outputs": [],
   "source": [
    "if zic:\n",
    "    correspondance = table.vstack([zrc[[\"oid\", \"aid\"]], zgc[[\"oid\", \"aid\"]], zic[[\"oid\", \"aid\"]]])\n",
    "else:\n",
    "    correspondance = table.vstack([zrc[[\"oid\", \"aid\"]], zgc[[\"oid\", \"aid\"]]])"
   ]
  },
  {
   "cell_type": "code",
   "execution_count": 21,
   "metadata": {},
   "outputs": [],
   "source": [
    "lcs = lcs.merge(correspondance.to_pandas(), on=\"oid\")"
   ]
  },
  {
   "cell_type": "markdown",
   "metadata": {},
   "source": [
    "This is the spatial distribution of the light curves"
   ]
  },
  {
   "cell_type": "code",
   "execution_count": 22,
   "metadata": {},
   "outputs": [
    {
     "data": {
      "image/png": "[encoded data removed]",
      "text/plain": [
       "<Figure size 432x288 with 1 Axes>"
      ]
     },
     "metadata": {
      "needs_background": "light"
     },
     "output_type": "display_data"
    }
   ],
   "source": [
    "plt.scatter(zrc[\"ra\"]*np.cos(zrc[\"dec\"]*u.deg.to(u.rad)), zrc[\"dec\"])\n",
    "plt.scatter(zgc[\"ra\"]*np.cos(zgc[\"dec\"]*u.deg.to(u.rad)), zgc[\"dec\"])\n",
    "plt.axis('equal')\n",
    "plt.show()"
   ]
  },
  {
   "cell_type": "markdown",
   "metadata": {},
   "source": [
    "### Computing a magnitude to error relation"
   ]
  },
  {
   "cell_type": "markdown",
   "metadata": {},
   "source": [
    "*ErrorMagnitudeRelation* permits to get the median magntiude error for each magnitude.  \n",
    "For this we bin all the magnitude measurement in one filter and compute the median error for each bin.  \n",
    "When *get_sigma* is called, it will return the median error value as the typical error for this magnitude.  \n",
    "We can improve this by interpolating, and taking account the value of the considered measurement itself (in regards of the magnitude bin median error) to create the new error."
   ]
  },
  {
   "cell_type": "code",
   "execution_count": 23,
   "metadata": {},
   "outputs": [],
   "source": [
    "class ErrorMagnitudeRelation:\n",
    "    def __init__(self, df, filters, bin_number=10):\n",
    "        self.bin_edges = {}\n",
    "        self.bin_values = {}\n",
    "        self.filters = filters\n",
    "        for c in self.filters:\n",
    "            df['bins_'+c], self.bin_edges[c] = pd.qcut(df[df[\"filtercode\"]==c]['mag'], bin_number, retbins=True)\n",
    "            self.bin_values[c] = df[df[\"filtercode\"]==c].groupby('bins_'+c)[\"magerr\"].agg(np.median).values\n",
    "            df.drop(columns = 'bins_'+c, inplace=True)\n",
    "\n",
    "    def get_sigma(self, cfilter, mag):\n",
    "        \"\"\"Get median sigma\"\"\"\n",
    "        index = np.digitize(mag, self.bin_edges[cfilter])\n",
    "        index = np.where(index>=len(self.bin_edges[cfilter])-2, len(self.bin_values[cfilter])-1, index-1)\n",
    "        return self.bin_values[cfilter][index]\n",
    "    \n",
    "    def display(self):\n",
    "        for c in self.filters:\n",
    "            eds = self.bin_edges[c]\n",
    "            vals = self.bin_values[c]\n",
    "            plt.scatter((eds[:-1]+eds[1:])/2, vals, s=10)\n",
    "            print(vals)\n",
    "            plt.ylim(0, np.nanmax(vals))\n",
    "            plt.title(c)\n",
    "            plt.xlabel(\"Magnitude\")\n",
    "            plt.ylabel(\"Error\")\n",
    "            plt.show()"
   ]
  },
  {
   "cell_type": "code",
   "execution_count": 24,
   "metadata": {},
   "outputs": [
    {
     "data": {
      "text/plain": [
       "13470649"
      ]
     },
     "execution_count": 24,
     "metadata": {},
     "output_type": "execute_result"
    }
   ],
   "source": [
    "len(lcs)"
   ]
  },
  {
   "cell_type": "markdown",
   "metadata": {},
   "source": [
    "Takes a few seconds"
   ]
  },
  {
   "cell_type": "code",
   "execution_count": 25,
   "metadata": {},
   "outputs": [],
   "source": [
    "#%%snakeviz\n",
    "emr = ErrorMagnitudeRelation(lcs, filters = lcs.filtercode.unique(), bin_number=30)"
   ]
  },
  {
   "cell_type": "code",
   "execution_count": 26,
   "metadata": {},
   "outputs": [
    {
     "name": "stdout",
     "output_type": "stream",
     "text": [
      "[0.012 0.011 0.012 0.013 0.015 0.017 0.021 0.025 0.03  0.036 0.043 0.05\n",
      " 0.058 0.066 0.074 0.083 0.091 0.1   0.109 0.118 0.127 0.136 0.144 0.153\n",
      " 0.161 0.17  0.181 0.193 0.207 0.229]\n"
     ]
    },
    {
     "data": {
      "image/png": "[encoded data removed]",
      "text/plain": [
       "<Figure size 432x288 with 1 Axes>"
      ]
     },
     "metadata": {
      "needs_background": "light"
     },
     "output_type": "display_data"
    },
    {
     "name": "stdout",
     "output_type": "stream",
     "text": [
      "[0.016 0.016 0.016 0.016 0.018 0.019 0.022 0.024 0.028 0.032 0.037 0.042\n",
      " 0.048 0.054 0.062 0.07  0.078 0.088 0.097 0.108 0.118 0.129 0.139 0.149\n",
      " 0.159 0.169 0.18  0.191 0.205 0.224]\n"
     ]
    },
    {
     "data": {
      "image/png": "[encoded data removed]",
      "text/plain": [
       "<Figure size 432x288 with 1 Axes>"
      ]
     },
     "metadata": {
      "needs_background": "light"
     },
     "output_type": "display_data"
    }
   ],
   "source": [
    "emr.display()"
   ]
  },
  {
   "cell_type": "markdown",
   "metadata": {},
   "source": [
    "We select 10000 amongst light curves with more than 10 measurements"
   ]
  },
  {
   "cell_type": "code",
   "execution_count": 27,
   "metadata": {},
   "outputs": [],
   "source": [
    "aid, n, cnt = np.unique(lcs.aid, return_index=True, return_counts=True)"
   ]
  },
  {
   "cell_type": "code",
   "execution_count": 28,
   "metadata": {},
   "outputs": [],
   "source": [
    "lcs = lcs[lcs.aid.isin(np.random.choice(aid[cnt>10], size=10000, replace=False))]"
   ]
  },
  {
   "cell_type": "markdown",
   "metadata": {},
   "source": [
    "### Simulating the microlensing events "
   ]
  },
  {
   "cell_type": "markdown",
   "metadata": {},
   "source": [
    "We generate the microlensing parameters first and then apply the amplification to all data"
   ]
  },
  {
   "cell_type": "code",
   "execution_count": 29,
   "metadata": {},
   "outputs": [],
   "source": [
    "def mulens_simple(t, mag, u0, t0, tE):\n",
    "    u = np.sqrt(u0*u0 + ((t-t0)**2)/tE/tE)\n",
    "    amp = (u**2+2)/(u*np.sqrt(u**2+4))\n",
    "    return - 2.5*np.log10(amp) + mag\n",
    "\n",
    "class UniformGenerator:\n",
    "    def __init__(self, u0_range=[0, 1], tE_range=[10, 500], seed=1234):\n",
    "        self.u0_range = np.array(u0_range)\n",
    "        self.tE_range = np.log10(tE_range)\n",
    "        self.rdm = np.random.RandomState(seed)\n",
    "    \n",
    "    def generate_parameters(self, t0_range):\n",
    "        if len(np.array(t0_range).shape)==1:\n",
    "            size = None\n",
    "        else:\n",
    "            size=len(t0_range[0])\n",
    "        params = {}\n",
    "        params[\"u0\"] = self.rdm.uniform(*self.u0_range, size=size)\n",
    "        params[\"tE\"] = np.power(10, self.rdm.uniform(*self.tE_range, size=size))\n",
    "        params[\"t0\"] = self.rdm.uniform(t0_range[0], t0_range[1])\n",
    "        return params\n",
    "\n",
    "def generate_microlensing_parameters(subdf, generator):\n",
    "    #Generate µlens parameters\n",
    "    params = generator.generate_parameters([subdf.hjd.min(), subdf.hjd.max()])\n",
    "    \n",
    "    #We save the parameters values directly in the dataframe\n",
    "    return pd.DataFrame(params, index=[0])"
   ]
  },
  {
   "cell_type": "code",
   "execution_count": 30,
   "metadata": {},
   "outputs": [],
   "source": [
    "ug = UniformGenerator()"
   ]
  },
  {
   "cell_type": "code",
   "execution_count": 31,
   "metadata": {},
   "outputs": [],
   "source": [
    "lcs = lcs.sort_values(\"aid\")"
   ]
  },
  {
   "cell_type": "code",
   "execution_count": 32,
   "metadata": {},
   "outputs": [],
   "source": [
    "lcs[\"mag_median\"] = lcs[[\"oid\", \"mag\"]].groupby(\"oid\").transform(\"median\")"
   ]
  },
  {
   "cell_type": "code",
   "execution_count": 33,
   "metadata": {},
   "outputs": [],
   "source": [
    "t0_ranges = lcs.groupby(\"aid\")[\"hjd\"].agg([\"max\", \"min\"]).values"
   ]
  },
  {
   "cell_type": "code",
   "execution_count": 34,
   "metadata": {},
   "outputs": [],
   "source": [
    "params = ug.generate_parameters(t0_range=t0_ranges.T)"
   ]
  },
  {
   "cell_type": "code",
   "execution_count": 35,
   "metadata": {},
   "outputs": [],
   "source": [
    "_, cnt = np.unique(lcs.aid, return_counts=True)"
   ]
  },
  {
   "cell_type": "code",
   "execution_count": 36,
   "metadata": {},
   "outputs": [],
   "source": [
    "for key in [\"u0\", \"t0\", \"tE\"]:\n",
    "    lcs[key]  = np.repeat(params[key], cnt)"
   ]
  },
  {
   "cell_type": "code",
   "execution_count": 37,
   "metadata": {},
   "outputs": [],
   "source": [
    "#%%snakeviz\n",
    "#lcst = lcs.iloc[:100000][[\"hjd\", \"aid\"]].groupby('aid').apply(generate_microlensing_parameters, generator=ug).reset_index(level=1,drop=True)"
   ]
  },
  {
   "cell_type": "code",
   "execution_count": 38,
   "metadata": {},
   "outputs": [],
   "source": [
    "mag_th = mulens_simple(lcs.hjd.values, lcs.mag_median.values, lcs.u0.values, lcs.t0.values, lcs.tE.values)"
   ]
  },
  {
   "cell_type": "markdown",
   "metadata": {},
   "source": [
    "Too slow, ~1min30"
   ]
  },
  {
   "cell_type": "code",
   "execution_count": 39,
   "metadata": {},
   "outputs": [],
   "source": [
    "norm = [emr.get_sigma(lcs.filtercode.iloc[idx], lcs.mag_median.iloc[idx]) / emr.get_sigma(lcs.filtercode.iloc[idx], mag_th[idx]) for idx in range(len(lcs))]"
   ]
  },
  {
   "cell_type": "code",
   "execution_count": 40,
   "metadata": {},
   "outputs": [],
   "source": [
    "lcs[\"new_magerr\"] = lcs[\"magerr\"]/norm"
   ]
  },
  {
   "cell_type": "code",
   "execution_count": 41,
   "metadata": {},
   "outputs": [],
   "source": [
    "lcs[\"new_mag\"] = mag_th + (lcs[\"mag\"] - lcs[\"mag_median\"]) / norm"
   ]
  },
  {
   "cell_type": "code",
   "execution_count": 42,
   "metadata": {},
   "outputs": [],
   "source": [
    "def display_lightcurve(subdf):\n",
    "    print(subdf.name)\n",
    "    unique_filters = subdf.filtercode.unique()\n",
    "    fig, axs = plt.subplots(nrows=len(unique_filters), ncols=1, sharex=True, gridspec_kw={\"hspace\":0}, squeeze=True)\n",
    "    if not isinstance(axs, np.ndarray):\n",
    "        axs = [axs]\n",
    "    for i, current_filter in enumerate(unique_filters):\n",
    "        c = subdf[subdf.filtercode == current_filter]\n",
    "        axs[i].errorbar(c.hjd, c.new_mag, yerr=c.new_magerr, ls='', marker='.', ecolor='k', elinewidth=0.5, color=PLOT_FILTER_COLORS[current_filter])\n",
    "        axs[i].errorbar(c.hjd, c.mag, yerr=c.magerr, ls='', marker='.', ecolor='k', elinewidth=0.5, color=PLOT_FILTER_COLORS[current_filter], alpha=0.1)\n",
    "        ts = np.linspace(np.min(c.hjd), np.max(c.hjd), 1000)\n",
    "        axs[i].plot(ts, mulens_simple(ts, c.mag.median(), c.iloc[0].u0, c.iloc[0].t0, c.iloc[0].tE), color=PLOT_FILTER_COLORS[current_filter])\n",
    "        axs[i].invert_yaxis()\n",
    "    plt.show()"
   ]
  },
  {
   "cell_type": "markdown",
   "metadata": {},
   "source": [
    "Here are some resulting light curve, with the old and amplified data points, and the theoretical microlensing lightcurve."
   ]
  },
  {
   "cell_type": "code",
   "execution_count": 43,
   "metadata": {},
   "outputs": [
    {
     "name": "stdout",
     "output_type": "stream",
     "text": [
      "354101100000007\n"
     ]
    },
    {
     "data": {
      "image/png": "[encoded data removed]",
      "text/plain": [
       "<Figure size 432x288 with 2 Axes>"
      ]
     },
     "metadata": {
      "needs_background": "light"
     },
     "output_type": "display_data"
    },
    {
     "name": "stdout",
     "output_type": "stream",
     "text": [
      "354101100000093\n"
     ]
    },
    {
     "data": {
      "image/png": "[encoded data removed]",
      "text/plain": [
       "<Figure size 432x288 with 2 Axes>"
      ]
     },
     "metadata": {
      "needs_background": "light"
     },
     "output_type": "display_data"
    },
    {
     "data": {
      "text/html": [
       "<div>\n",
       "<style scoped>\n",
       "    .dataframe tbody tr th:only-of-type {\n",
       "        vertical-align: middle;\n",
       "    }\n",
       "\n",
       "    .dataframe tbody tr th {\n",
       "        vertical-align: top;\n",
       "    }\n",
       "\n",
       "    .dataframe thead th {\n",
       "        text-align: right;\n",
       "    }\n",
       "</style>\n",
       "<table border=\"1\" class=\"dataframe\">\n",
       "  <thead>\n",
       "    <tr style=\"text-align: right;\">\n",
       "      <th></th>\n",
       "    </tr>\n",
       "  </thead>\n",
       "  <tbody>\n",
       "  </tbody>\n",
       "</table>\n",
       "</div>"
      ],
      "text/plain": [
       "Empty DataFrame\n",
       "Columns: []\n",
       "Index: []"
      ]
     },
     "execution_count": 43,
     "metadata": {},
     "output_type": "execute_result"
    }
   ],
   "source": [
    "lcs.iloc[:100].groupby(\"aid\").apply(display_lightcurve)"
   ]
  },
  {
   "cell_type": "markdown",
   "metadata": {},
   "source": [
    "### Injecting it in the ZTF alert template"
   ]
  },
  {
   "cell_type": "code",
   "execution_count": 44,
   "metadata": {},
   "outputs": [],
   "source": [
    "from fink_client.avroUtils import AlertReader\n",
    "\n",
    "# Generic reader for Avro files\n",
    "# You can also specify a single file\n",
    "r = AlertReader('ZTF19abctvmv.avro')\n"
   ]
  },
  {
   "cell_type": "code",
   "execution_count": 45,
   "metadata": {},
   "outputs": [
    {
     "data": {
      "text/plain": [
       "<fink_client.avroUtils.AlertReader at 0x123662150>"
      ]
     },
     "execution_count": 45,
     "metadata": {},
     "output_type": "execute_result"
    }
   ],
   "source": [
    "r"
   ]
  },
  {
   "cell_type": "code",
   "execution_count": 46,
   "metadata": {},
   "outputs": [],
   "source": [
    "alerts = r.to_pandas()"
   ]
  },
  {
   "cell_type": "code",
   "execution_count": 47,
   "metadata": {},
   "outputs": [],
   "source": [
    "alert = r.to_list()[0]"
   ]
  },
  {
   "cell_type": "code",
   "execution_count": 48,
   "metadata": {},
   "outputs": [
    {
     "name": "stderr",
     "output_type": "stream",
     "text": [
      "/Users/tristanblaineau/opt/miniconda3/envs/dev/lib/python3.7/site-packages/ipykernel_launcher.py:20: DeprecationWarning: The 'schema' attribute is deprecated. Please use 'writer_schema'\n"
     ]
    }
   ],
   "source": [
    "from fink_client.avroUtils import write_alert\n",
    "import fastavro\n",
    "\n",
    "def readschemafromavrofile(fn: str) -> dict:\n",
    "    \"\"\" Reach schema from a binary avro file.\n",
    "\n",
    "    Parameters\n",
    "    ----------\n",
    "    fn: str\n",
    "        Input Avro file with schema.\n",
    "\n",
    "    Returns\n",
    "    ----------\n",
    "    schema: dict\n",
    "        Dictionary (JSON) describing the schema.\n",
    "\n",
    "    \"\"\"\n",
    "    with open(fn, mode='rb') as file_data:\n",
    "        data = fastavro.reader(file_data)\n",
    "        schema = data.schema\n",
    "    return schema\n",
    "\n",
    "schema = readschemafromavrofile(r.filenames[0])"
   ]
  },
  {
   "cell_type": "code",
   "execution_count": 49,
   "metadata": {},
   "outputs": [],
   "source": [
    "lcs[\"filtercode\"] = lcs[\"filtercode\"].replace({\"zg\":1, \"zr\":2, \"zi\":3})"
   ]
  },
  {
   "cell_type": "markdown",
   "metadata": {},
   "source": [
    "Function to modify the alert light curve. I give it the \"aid\" as objectId, it should be changed to be a valid ZTF alert ID I think."
   ]
  },
  {
   "cell_type": "code",
   "execution_count": 50,
   "metadata": {},
   "outputs": [],
   "source": [
    "def inject_lightcurve(subdf, alert_template, schema):\n",
    "    alert_template[\"objectId\"] = subdf.name\n",
    "    alert_template['prv_candidates'] = [alert_template['prv_candidates'][0]]*len(subdf)\n",
    "    i = 0\n",
    "    for _, row in subdf.iterrows():\n",
    "        alert_template['prv_candidates'][i][\"jd\"] = row.hjd + 2400000.5\n",
    "        alert_template['prv_candidates'][i][\"fid\"] = row.filtercode\n",
    "        alert_template['prv_candidates'][i][\"magpsf\"] = row.new_mag\n",
    "        alert_template['prv_candidates'][i][\"sigmapsf\"] = row.new_magerr\n",
    "        alert_template\n",
    "        i+=1\n",
    "    write_alert(alert_template, schema, path='.', overwrite=False)"
   ]
  },
  {
   "cell_type": "code",
   "execution_count": 51,
   "metadata": {},
   "outputs": [
    {
     "ename": "OSError",
     "evalue": "./354101100000007.avro already exists!",
     "output_type": "error",
     "traceback": [
      "\u001b[0;31m---------------------------------------------------------------------------\u001b[0m",
      "\u001b[0;31mOSError\u001b[0m                                   Traceback (most recent call last)",
      "\u001b[0;32m<ipython-input-51-cd0ad635a6a9>\u001b[0m in \u001b[0;36m<module>\u001b[0;34m\u001b[0m\n\u001b[1;32m      1\u001b[0m \u001b[0malert_template\u001b[0m \u001b[0;34m=\u001b[0m \u001b[0malert\u001b[0m\u001b[0;34m.\u001b[0m\u001b[0mcopy\u001b[0m\u001b[0;34m(\u001b[0m\u001b[0;34m)\u001b[0m\u001b[0;34m\u001b[0m\u001b[0;34m\u001b[0m\u001b[0m\n\u001b[0;32m----> 2\u001b[0;31m \u001b[0mlcs\u001b[0m\u001b[0;34m.\u001b[0m\u001b[0miloc\u001b[0m\u001b[0;34m[\u001b[0m\u001b[0;34m:\u001b[0m\u001b[0;36m1000\u001b[0m\u001b[0;34m]\u001b[0m\u001b[0;34m.\u001b[0m\u001b[0mgroupby\u001b[0m\u001b[0;34m(\u001b[0m\u001b[0;34m\"aid\"\u001b[0m\u001b[0;34m)\u001b[0m\u001b[0;34m.\u001b[0m\u001b[0mapply\u001b[0m\u001b[0;34m(\u001b[0m\u001b[0minject_lightcurve\u001b[0m\u001b[0;34m,\u001b[0m \u001b[0malert_template\u001b[0m\u001b[0;34m,\u001b[0m \u001b[0mschema\u001b[0m\u001b[0;34m)\u001b[0m\u001b[0;34m\u001b[0m\u001b[0;34m\u001b[0m\u001b[0m\n\u001b[0m",
      "\u001b[0;32m~/opt/miniconda3/envs/dev/lib/python3.7/site-packages/pandas/core/groupby/groupby.py\u001b[0m in \u001b[0;36mapply\u001b[0;34m(self, func, *args, **kwargs)\u001b[0m\n\u001b[1;32m    733\u001b[0m         \u001b[0;32mwith\u001b[0m \u001b[0moption_context\u001b[0m\u001b[0;34m(\u001b[0m\u001b[0;34m\"mode.chained_assignment\"\u001b[0m\u001b[0;34m,\u001b[0m \u001b[0;32mNone\u001b[0m\u001b[0;34m)\u001b[0m\u001b[0;34m:\u001b[0m\u001b[0;34m\u001b[0m\u001b[0;34m\u001b[0m\u001b[0m\n\u001b[1;32m    734\u001b[0m             \u001b[0;32mtry\u001b[0m\u001b[0;34m:\u001b[0m\u001b[0;34m\u001b[0m\u001b[0;34m\u001b[0m\u001b[0m\n\u001b[0;32m--> 735\u001b[0;31m                 \u001b[0mresult\u001b[0m \u001b[0;34m=\u001b[0m \u001b[0mself\u001b[0m\u001b[0;34m.\u001b[0m\u001b[0m_python_apply_general\u001b[0m\u001b[0;34m(\u001b[0m\u001b[0mf\u001b[0m\u001b[0;34m)\u001b[0m\u001b[0;34m\u001b[0m\u001b[0;34m\u001b[0m\u001b[0m\n\u001b[0m\u001b[1;32m    736\u001b[0m             \u001b[0;32mexcept\u001b[0m \u001b[0mTypeError\u001b[0m\u001b[0;34m:\u001b[0m\u001b[0;34m\u001b[0m\u001b[0;34m\u001b[0m\u001b[0m\n\u001b[1;32m    737\u001b[0m                 \u001b[0;31m# gh-20949\u001b[0m\u001b[0;34m\u001b[0m\u001b[0;34m\u001b[0m\u001b[0;34m\u001b[0m\u001b[0m\n",
      "\u001b[0;32m~/opt/miniconda3/envs/dev/lib/python3.7/site-packages/pandas/core/groupby/groupby.py\u001b[0m in \u001b[0;36m_python_apply_general\u001b[0;34m(self, f)\u001b[0m\n\u001b[1;32m    749\u001b[0m \u001b[0;34m\u001b[0m\u001b[0m\n\u001b[1;32m    750\u001b[0m     \u001b[0;32mdef\u001b[0m \u001b[0m_python_apply_general\u001b[0m\u001b[0;34m(\u001b[0m\u001b[0mself\u001b[0m\u001b[0;34m,\u001b[0m \u001b[0mf\u001b[0m\u001b[0;34m)\u001b[0m\u001b[0;34m:\u001b[0m\u001b[0;34m\u001b[0m\u001b[0;34m\u001b[0m\u001b[0m\n\u001b[0;32m--> 751\u001b[0;31m         \u001b[0mkeys\u001b[0m\u001b[0;34m,\u001b[0m \u001b[0mvalues\u001b[0m\u001b[0;34m,\u001b[0m \u001b[0mmutated\u001b[0m \u001b[0;34m=\u001b[0m \u001b[0mself\u001b[0m\u001b[0;34m.\u001b[0m\u001b[0mgrouper\u001b[0m\u001b[0;34m.\u001b[0m\u001b[0mapply\u001b[0m\u001b[0;34m(\u001b[0m\u001b[0mf\u001b[0m\u001b[0;34m,\u001b[0m \u001b[0mself\u001b[0m\u001b[0;34m.\u001b[0m\u001b[0m_selected_obj\u001b[0m\u001b[0;34m,\u001b[0m \u001b[0mself\u001b[0m\u001b[0;34m.\u001b[0m\u001b[0maxis\u001b[0m\u001b[0;34m)\u001b[0m\u001b[0;34m\u001b[0m\u001b[0;34m\u001b[0m\u001b[0m\n\u001b[0m\u001b[1;32m    752\u001b[0m \u001b[0;34m\u001b[0m\u001b[0m\n\u001b[1;32m    753\u001b[0m         return self._wrap_applied_output(\n",
      "\u001b[0;32m~/opt/miniconda3/envs/dev/lib/python3.7/site-packages/pandas/core/groupby/ops.py\u001b[0m in \u001b[0;36mapply\u001b[0;34m(self, f, data, axis)\u001b[0m\n\u001b[1;32m    203\u001b[0m             \u001b[0;31m# group might be modified\u001b[0m\u001b[0;34m\u001b[0m\u001b[0;34m\u001b[0m\u001b[0;34m\u001b[0m\u001b[0m\n\u001b[1;32m    204\u001b[0m             \u001b[0mgroup_axes\u001b[0m \u001b[0;34m=\u001b[0m \u001b[0mgroup\u001b[0m\u001b[0;34m.\u001b[0m\u001b[0maxes\u001b[0m\u001b[0;34m\u001b[0m\u001b[0;34m\u001b[0m\u001b[0m\n\u001b[0;32m--> 205\u001b[0;31m             \u001b[0mres\u001b[0m \u001b[0;34m=\u001b[0m \u001b[0mf\u001b[0m\u001b[0;34m(\u001b[0m\u001b[0mgroup\u001b[0m\u001b[0;34m)\u001b[0m\u001b[0;34m\u001b[0m\u001b[0;34m\u001b[0m\u001b[0m\n\u001b[0m\u001b[1;32m    206\u001b[0m             \u001b[0;32mif\u001b[0m \u001b[0;32mnot\u001b[0m \u001b[0m_is_indexed_like\u001b[0m\u001b[0;34m(\u001b[0m\u001b[0mres\u001b[0m\u001b[0;34m,\u001b[0m \u001b[0mgroup_axes\u001b[0m\u001b[0;34m)\u001b[0m\u001b[0;34m:\u001b[0m\u001b[0;34m\u001b[0m\u001b[0;34m\u001b[0m\u001b[0m\n\u001b[1;32m    207\u001b[0m                 \u001b[0mmutated\u001b[0m \u001b[0;34m=\u001b[0m \u001b[0;32mTrue\u001b[0m\u001b[0;34m\u001b[0m\u001b[0;34m\u001b[0m\u001b[0m\n",
      "\u001b[0;32m~/opt/miniconda3/envs/dev/lib/python3.7/site-packages/pandas/core/groupby/groupby.py\u001b[0m in \u001b[0;36mf\u001b[0;34m(g)\u001b[0m\n\u001b[1;32m    717\u001b[0m                 \u001b[0;32mdef\u001b[0m \u001b[0mf\u001b[0m\u001b[0;34m(\u001b[0m\u001b[0mg\u001b[0m\u001b[0;34m)\u001b[0m\u001b[0;34m:\u001b[0m\u001b[0;34m\u001b[0m\u001b[0;34m\u001b[0m\u001b[0m\n\u001b[1;32m    718\u001b[0m                     \u001b[0;32mwith\u001b[0m \u001b[0mnp\u001b[0m\u001b[0;34m.\u001b[0m\u001b[0merrstate\u001b[0m\u001b[0;34m(\u001b[0m\u001b[0mall\u001b[0m\u001b[0;34m=\u001b[0m\u001b[0;34m\"ignore\"\u001b[0m\u001b[0;34m)\u001b[0m\u001b[0;34m:\u001b[0m\u001b[0;34m\u001b[0m\u001b[0;34m\u001b[0m\u001b[0m\n\u001b[0;32m--> 719\u001b[0;31m                         \u001b[0;32mreturn\u001b[0m \u001b[0mfunc\u001b[0m\u001b[0;34m(\u001b[0m\u001b[0mg\u001b[0m\u001b[0;34m,\u001b[0m \u001b[0;34m*\u001b[0m\u001b[0margs\u001b[0m\u001b[0;34m,\u001b[0m \u001b[0;34m**\u001b[0m\u001b[0mkwargs\u001b[0m\u001b[0;34m)\u001b[0m\u001b[0;34m\u001b[0m\u001b[0;34m\u001b[0m\u001b[0m\n\u001b[0m\u001b[1;32m    720\u001b[0m \u001b[0;34m\u001b[0m\u001b[0m\n\u001b[1;32m    721\u001b[0m             \u001b[0;32melif\u001b[0m \u001b[0mhasattr\u001b[0m\u001b[0;34m(\u001b[0m\u001b[0mnanops\u001b[0m\u001b[0;34m,\u001b[0m \u001b[0;34m\"nan\"\u001b[0m \u001b[0;34m+\u001b[0m \u001b[0mfunc\u001b[0m\u001b[0;34m)\u001b[0m\u001b[0;34m:\u001b[0m\u001b[0;34m\u001b[0m\u001b[0;34m\u001b[0m\u001b[0m\n",
      "\u001b[0;32m<ipython-input-50-82e39a6dcf6a>\u001b[0m in \u001b[0;36minject_lightcurve\u001b[0;34m(subdf, alert_template, schema)\u001b[0m\n\u001b[1;32m     10\u001b[0m         \u001b[0malert_template\u001b[0m\u001b[0;34m\u001b[0m\u001b[0;34m\u001b[0m\u001b[0m\n\u001b[1;32m     11\u001b[0m         \u001b[0mi\u001b[0m\u001b[0;34m+=\u001b[0m\u001b[0;36m1\u001b[0m\u001b[0;34m\u001b[0m\u001b[0;34m\u001b[0m\u001b[0m\n\u001b[0;32m---> 12\u001b[0;31m     \u001b[0mwrite_alert\u001b[0m\u001b[0;34m(\u001b[0m\u001b[0malert_template\u001b[0m\u001b[0;34m,\u001b[0m \u001b[0mschema\u001b[0m\u001b[0;34m,\u001b[0m \u001b[0mpath\u001b[0m\u001b[0;34m=\u001b[0m\u001b[0;34m'.'\u001b[0m\u001b[0;34m,\u001b[0m \u001b[0moverwrite\u001b[0m\u001b[0;34m=\u001b[0m\u001b[0;32mFalse\u001b[0m\u001b[0;34m)\u001b[0m\u001b[0;34m\u001b[0m\u001b[0;34m\u001b[0m\u001b[0m\n\u001b[0m",
      "\u001b[0;32m~/softwares/fink-client/fink_client/avroUtils.py\u001b[0m in \u001b[0;36mwrite_alert\u001b[0;34m(alert, schema, path, overwrite)\u001b[0m\n\u001b[1;32m    213\u001b[0m     \u001b[0;31m# Check if the alert already exist\u001b[0m\u001b[0;34m\u001b[0m\u001b[0;34m\u001b[0m\u001b[0;34m\u001b[0m\u001b[0m\n\u001b[1;32m    214\u001b[0m     \u001b[0;32mif\u001b[0m \u001b[0mos\u001b[0m\u001b[0;34m.\u001b[0m\u001b[0mpath\u001b[0m\u001b[0;34m.\u001b[0m\u001b[0mexists\u001b[0m\u001b[0;34m(\u001b[0m\u001b[0malert_filename\u001b[0m\u001b[0;34m)\u001b[0m \u001b[0;32mand\u001b[0m \u001b[0;32mnot\u001b[0m \u001b[0moverwrite\u001b[0m\u001b[0;34m:\u001b[0m\u001b[0;34m\u001b[0m\u001b[0;34m\u001b[0m\u001b[0m\n\u001b[0;32m--> 215\u001b[0;31m         \u001b[0;32mraise\u001b[0m \u001b[0mIOError\u001b[0m\u001b[0;34m(\u001b[0m\u001b[0;34m\"{} already exists!\"\u001b[0m\u001b[0;34m.\u001b[0m\u001b[0mformat\u001b[0m\u001b[0;34m(\u001b[0m\u001b[0malert_filename\u001b[0m\u001b[0;34m)\u001b[0m\u001b[0;34m)\u001b[0m\u001b[0;34m\u001b[0m\u001b[0;34m\u001b[0m\u001b[0m\n\u001b[0m\u001b[1;32m    216\u001b[0m \u001b[0;34m\u001b[0m\u001b[0m\n\u001b[1;32m    217\u001b[0m     \u001b[0;32mwith\u001b[0m \u001b[0mopen\u001b[0m\u001b[0;34m(\u001b[0m\u001b[0malert_filename\u001b[0m\u001b[0;34m,\u001b[0m \u001b[0;34m'wb'\u001b[0m\u001b[0;34m)\u001b[0m \u001b[0;32mas\u001b[0m \u001b[0mout\u001b[0m\u001b[0;34m:\u001b[0m\u001b[0;34m\u001b[0m\u001b[0;34m\u001b[0m\u001b[0m\n",
      "\u001b[0;31mOSError\u001b[0m: ./354101100000007.avro already exists!"
     ]
    }
   ],
   "source": [
    "alert_template = alert.copy()\n",
    "lcs.iloc[:1000].groupby(\"aid\").apply(inject_lightcurve, alert_template, schema)"
   ]
  },
  {
   "cell_type": "code",
   "execution_count": null,
   "metadata": {},
   "outputs": [],
   "source": []
  }
 ],
 "metadata": {
  "kernelspec": {
   "display_name": "Python 3",
   "language": "python",
   "name": "python3"
  },
  "language_info": {
   "codemirror_mode": {
    "name": "ipython",
    "version": 3
   },
   "file_extension": ".py",
   "mimetype": "text/x-python",
   "name": "python",
   "nbconvert_exporter": "python",
   "pygments_lexer": "ipython3",
   "version": "3.7.6"
  }
 },
 "nbformat": 4,
 "nbformat_minor": 4
}
